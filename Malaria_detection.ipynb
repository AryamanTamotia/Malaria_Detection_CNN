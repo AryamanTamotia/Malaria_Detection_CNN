{
 "cells": [ 
  {
   "cell_type": "code",
   "execution_count": 1,
   "id": "1aa36c13",
   "metadata": {},
   "outputs": [],
   "source": [
    "from tensorflow.keras.layers import Input, Lambda, Dense, Flatten,Conv2D\n",
    "from tensorflow.keras.models import Model\n",
    "from tensorflow.keras.applications.vgg19 import VGG19\n",
    "from tensorflow.keras.applications.resnet50 import preprocess_input\n",
    "from tensorflow.keras.preprocessing import image\n",
    "from tensorflow.keras.preprocessing.image import ImageDataGenerator,load_img\n",
    "from tensorflow.keras.models import Sequential"
   ]
  },
  {
   "cell_type": "code",
   "execution_count": 2,
   "id": "8ea77676",
   "metadata": {},
   "outputs": [],
   "source": [
    "import numpy as np\n",
    "from glob import glob\n",
    "import matplotlib.pyplot as plt"
   ]
  },
  {
   "cell_type": "code",
   "execution_count": 3,
   "id": "40193762",
   "metadata": {},
   "outputs": [],
   "source": [
    "# resize all the images to this\n",
    "IMAGE_SIZE=[224,224]\n",
    "\n",
    "train_path='Malaria_Train'\n",
    "valid_path = 'Malaria_Test'"
   ]
  },
  {
   "cell_type": "code",
   "execution_count": 4,
   "id": "ff71533f",
   "metadata": {},
   "outputs": [],
   "source": [
    "#Import the vgg 19 Library as shown below and add preprocessing Layer to the front of VGG \n",
    "# Here we will be uing Imagnet Weights\n",
    "\n",
    "vgg19  = VGG19(input_shape=IMAGE_SIZE+[3], weights='imagenet',include_top=False)"
   ]
  },
  {
   "cell_type": "code",
   "execution_count": 5,
   "id": "397f3895",
   "metadata": {},
   "outputs": [
    {
     "name": "stdout",
     "output_type": "stream",
     "text": [
      "Model: \"vgg19\"\n",
      "_________________________________________________________________\n",
      " Layer (type)                Output Shape              Param #   \n",
      "=================================================================\n",
      " input_1 (InputLayer)        [(None, 224, 224, 3)]     0         \n",
      "                                                                 \n",
      " block1_conv1 (Conv2D)       (None, 224, 224, 64)      1792      \n",
      "                                                                 \n",
      " block1_conv2 (Conv2D)       (None, 224, 224, 64)      36928     \n",
      "                                                                 \n",
      " block1_pool (MaxPooling2D)  (None, 112, 112, 64)      0         \n",
      "                                                                 \n",
      " block2_conv1 (Conv2D)       (None, 112, 112, 128)     73856     \n",
      "                                                                 \n",
      " block2_conv2 (Conv2D)       (None, 112, 112, 128)     147584    \n",
      "                                                                 \n",
      " block2_pool (MaxPooling2D)  (None, 56, 56, 128)       0         \n",
      "                                                                 \n",
      " block3_conv1 (Conv2D)       (None, 56, 56, 256)       295168    \n",
      "                                                                 \n",
      " block3_conv2 (Conv2D)       (None, 56, 56, 256)       590080    \n",
      "                                                                 \n",
      " block3_conv3 (Conv2D)       (None, 56, 56, 256)       590080    \n",
      "                                                                 \n",
      " block3_conv4 (Conv2D)       (None, 56, 56, 256)       590080    \n",
      "                                                                 \n",
      " block3_pool (MaxPooling2D)  (None, 28, 28, 256)       0         \n",
      "                                                                 \n",
      " block4_conv1 (Conv2D)       (None, 28, 28, 512)       1180160   \n",
      "                                                                 \n",
      " block4_conv2 (Conv2D)       (None, 28, 28, 512)       2359808   \n",
      "                                                                 \n",
      " block4_conv3 (Conv2D)       (None, 28, 28, 512)       2359808   \n",
      "                                                                 \n",
      " block4_conv4 (Conv2D)       (None, 28, 28, 512)       2359808   \n",
      "                                                                 \n",
      " block4_pool (MaxPooling2D)  (None, 14, 14, 512)       0         \n",
      "                                                                 \n",
      " block5_conv1 (Conv2D)       (None, 14, 14, 512)       2359808   \n",
      "                                                                 \n",
      " block5_conv2 (Conv2D)       (None, 14, 14, 512)       2359808   \n",
      "                                                                 \n",
      " block5_conv3 (Conv2D)       (None, 14, 14, 512)       2359808   \n",
      "                                                                 \n",
      " block5_conv4 (Conv2D)       (None, 14, 14, 512)       2359808   \n",
      "                                                                 \n",
      " block5_pool (MaxPooling2D)  (None, 7, 7, 512)         0         \n",
      "                                                                 \n",
      "=================================================================\n",
      "Total params: 20,024,384\n",
      "Trainable params: 20,024,384\n",
      "Non-trainable params: 0\n",
      "_________________________________________________________________\n"
     ]
    }
   ],
   "source": [
    "vgg19.summary()"
   ]
  },
  {
   "cell_type": "code",
   "execution_count": 6,
   "id": "3357d1e5",
   "metadata": {},
   "outputs": [],
   "source": [
    "# don't train existing weights\n",
    "for layer in vgg19.layers:\n",
    "    layer.trainable = False"
   ]
  },
  {
   "cell_type": "code",
   "execution_count": 7,
   "id": "c296a03e",
   "metadata": {},
   "outputs": [],
   "source": [
    "# useful for getting number of output classes\n",
    "folders = glob('Malaria_Train/*')"
   ]
  },
  {
   "cell_type": "code",
   "execution_count": 8,
   "id": "9dd6b3f8",
   "metadata": {},
   "outputs": [
    {
     "data": {
      "text/plain": [
       "['Malaria_Train\\\\Parasite', 'Malaria_Train\\\\Uninfected']"
      ]
     },
     "execution_count": 8,
     "metadata": {},
     "output_type": "execute_result"
    }
   ],
   "source": [
    "folders"
   ]
  },
  {
   "cell_type": "code",
   "execution_count": 9,
   "id": "8f6d61c6",
   "metadata": {},
   "outputs": [],
   "source": [
    "# our layers - you can add more if you want\n",
    "x = Flatten()(vgg19.output)"
   ]
  },
  {
   "cell_type": "code",
   "execution_count": 10,
   "id": "3dc80c05",
   "metadata": {},
   "outputs": [],
   "source": [
    "prediction = Dense(len(folders), activation='softmax')(x)\n",
    "\n",
    "# create a model object\n",
    "model = Model(inputs=vgg19.input, outputs=prediction)"
   ]
  },
  {
   "cell_type": "code",
   "execution_count": 11,
   "id": "a628f6d4",
   "metadata": {},
   "outputs": [
    {
     "name": "stdout",
     "output_type": "stream",
     "text": [
      "Model: \"model\"\n",
      "_________________________________________________________________\n",
      " Layer (type)                Output Shape              Param #   \n",
      "=================================================================\n",
      " input_1 (InputLayer)        [(None, 224, 224, 3)]     0         \n",
      "                                                                 \n",
      " block1_conv1 (Conv2D)       (None, 224, 224, 64)      1792      \n",
      "                                                                 \n",
      " block1_conv2 (Conv2D)       (None, 224, 224, 64)      36928     \n",
      "                                                                 \n",
      " block1_pool (MaxPooling2D)  (None, 112, 112, 64)      0         \n",
      "                                                                 \n",
      " block2_conv1 (Conv2D)       (None, 112, 112, 128)     73856     \n",
      "                                                                 \n",
      " block2_conv2 (Conv2D)       (None, 112, 112, 128)     147584    \n",
      "                                                                 \n",
      " block2_pool (MaxPooling2D)  (None, 56, 56, 128)       0         \n",
      "                                                                 \n",
      " block3_conv1 (Conv2D)       (None, 56, 56, 256)       295168    \n",
      "                                                                 \n",
      " block3_conv2 (Conv2D)       (None, 56, 56, 256)       590080    \n",
      "                                                                 \n",
      " block3_conv3 (Conv2D)       (None, 56, 56, 256)       590080    \n",
      "                                                                 \n",
      " block3_conv4 (Conv2D)       (None, 56, 56, 256)       590080    \n",
      "                                                                 \n",
      " block3_pool (MaxPooling2D)  (None, 28, 28, 256)       0         \n",
      "                                                                 \n",
      " block4_conv1 (Conv2D)       (None, 28, 28, 512)       1180160   \n",
      "                                                                 \n",
      " block4_conv2 (Conv2D)       (None, 28, 28, 512)       2359808   \n",
      "                                                                 \n",
      " block4_conv3 (Conv2D)       (None, 28, 28, 512)       2359808   \n",
      "                                                                 \n",
      " block4_conv4 (Conv2D)       (None, 28, 28, 512)       2359808   \n",
      "                                                                 \n",
      " block4_pool (MaxPooling2D)  (None, 14, 14, 512)       0         \n",
      "                                                                 \n",
      " block5_conv1 (Conv2D)       (None, 14, 14, 512)       2359808   \n",
      "                                                                 \n",
      " block5_conv2 (Conv2D)       (None, 14, 14, 512)       2359808   \n",
      "                                                                 \n",
      " block5_conv3 (Conv2D)       (None, 14, 14, 512)       2359808   \n",
      "                                                                 \n",
      " block5_conv4 (Conv2D)       (None, 14, 14, 512)       2359808   \n",
      "                                                                 \n",
      " block5_pool (MaxPooling2D)  (None, 7, 7, 512)         0         \n",
      "                                                                 \n",
      " flatten (Flatten)           (None, 25088)             0         \n",
      "                                                                 \n",
      " dense (Dense)               (None, 2)                 50178     \n",
      "                                                                 \n",
      "=================================================================\n",
      "Total params: 20,074,562\n",
      "Trainable params: 50,178\n",
      "Non-trainable params: 20,024,384\n",
      "_________________________________________________________________\n"
     ]
    }
   ],
   "source": [
    "model.summary()"
   ]
  },
  {
   "cell_type": "code",
   "execution_count": null,
   "id": "be3774f2",
   "metadata": {},
   "outputs": [],
   "source": []
  },
  {
   "cell_type": "code",
   "execution_count": 12,
   "id": "104f4c21",
   "metadata": {},
   "outputs": [],
   "source": [
    "# tell the model what cost and optimization method to use\n",
    "model.compile(\n",
    "    loss='categorical_crossentropy',\n",
    "    optimizer='adam',\n",
    "    metrics=['accuracy']\n",
    ")"
   ]
  },
  {
   "cell_type": "code",
   "execution_count": null,
   "id": "611765a4",
   "metadata": {},
   "outputs": [],
   "source": []
  },
  {
   "cell_type": "code",
   "execution_count": 13,
   "id": "5b28873a",
   "metadata": {},
   "outputs": [],
   "source": [
    "# use the image data generator to import the images from the dataset\n",
    "from tensorflow.keras.preprocessing.image import ImageDataGenerator\n",
    "\n",
    "train_datagen = ImageDataGenerator(rescale=1./255,\n",
    "                                  shear_range=0.2,\n",
    "                                  zoom_range=0.2,\n",
    "                                  horizontal_flip=True)\n",
    "\n",
    "test_datagen = ImageDataGenerator(rescale=1./255)"
   ]
  },
  {
   "cell_type": "code",
   "execution_count": 14,
   "id": "c1b7dcdd",
   "metadata": {},
   "outputs": [
    {
     "name": "stdout",
     "output_type": "stream",
     "text": [
      "Found 416 images belonging to 2 classes.\n"
     ]
    }
   ],
   "source": [
    "# Make sure you provide the same target size as initialised for the image size\n",
    "training_set = train_datagen.flow_from_directory('Malaria_Train',\n",
    "                                                target_size=(224,224),\n",
    "                                                batch_size=32,\n",
    "                                                class_mode='categorical')"
   ]
  },
  {
   "cell_type": "code",
   "execution_count": 15,
   "id": "df14f7eb",
   "metadata": {},
   "outputs": [
    {
     "name": "stdout",
     "output_type": "stream",
     "text": [
      "Found 134 images belonging to 2 classes.\n"
     ]
    }
   ],
   "source": [
    "test_set = train_datagen.flow_from_directory('Malaria_Test',\n",
    "                                            target_size=(224,224),\n",
    "                                            batch_size=32,\n",
    "                                            class_mode='categorical')"
   ]
  },
  {
   "cell_type": "code",
   "execution_count": 16,
   "id": "769a7ad0",
   "metadata": {},
   "outputs": [
    {
     "name": "stdout",
     "output_type": "stream",
     "text": [
      "Epoch 1/10\n",
      "13/13 [==============================] - 77s 6s/step - loss: 1.7415 - accuracy: 0.5048 - val_loss: 1.0392 - val_accuracy: 0.4328\n",
      "Epoch 2/10\n",
      "13/13 [==============================] - 84s 7s/step - loss: 0.6697 - accuracy: 0.6755 - val_loss: 0.5045 - val_accuracy: 0.7239\n",
      "Epoch 3/10\n",
      "13/13 [==============================] - 85s 7s/step - loss: 0.4603 - accuracy: 0.7548 - val_loss: 0.4913 - val_accuracy: 0.7388\n",
      "Epoch 4/10\n",
      "13/13 [==============================] - 82s 6s/step - loss: 0.3879 - accuracy: 0.8221 - val_loss: 0.4401 - val_accuracy: 0.7687\n",
      "Epoch 5/10\n",
      "13/13 [==============================] - 80s 6s/step - loss: 0.3238 - accuracy: 0.8774 - val_loss: 0.4763 - val_accuracy: 0.7836\n",
      "Epoch 6/10\n",
      "13/13 [==============================] - 81s 6s/step - loss: 0.2999 - accuracy: 0.8918 - val_loss: 0.3671 - val_accuracy: 0.8134\n",
      "Epoch 7/10\n",
      "13/13 [==============================] - 82s 6s/step - loss: 0.2806 - accuracy: 0.8894 - val_loss: 0.4706 - val_accuracy: 0.7388\n",
      "Epoch 8/10\n",
      "13/13 [==============================] - 81s 6s/step - loss: 0.2816 - accuracy: 0.8798 - val_loss: 0.3792 - val_accuracy: 0.8284\n",
      "Epoch 9/10\n",
      "13/13 [==============================] - 81s 6s/step - loss: 0.2532 - accuracy: 0.8990 - val_loss: 0.4844 - val_accuracy: 0.7687\n",
      "Epoch 10/10\n",
      "13/13 [==============================] - 82s 6s/step - loss: 0.2584 - accuracy: 0.8942 - val_loss: 0.3892 - val_accuracy: 0.7836\n"
     ]
    }
   ],
   "source": [
    "# fit the model\n",
    "# Run the cell. It will take some time to execute\n",
    "r = model.fit(\n",
    "            training_set,\n",
    "            validation_data=test_set,\n",
    "            epochs=10,\n",
    "            steps_per_epoch=len(training_set),\n",
    "            validation_steps=len(test_set)\n",
    ")"
   ]
  },
  {
   "cell_type": "code",
   "execution_count": 17,
   "id": "d80bb838",
   "metadata": {},
   "outputs": [
    {
     "data": {
      "image/png": "[encoded data removed]",
      "text/plain": [
       "<Figure size 432x288 with 1 Axes>"
      ]
     },
     "metadata": {
      "needs_background": "light"
     },
     "output_type": "display_data"
    },
    {
     "data": {
      "image/png": "[encoded data removed]",
      "text/plain": [
       "<Figure size 432x288 with 1 Axes>"
      ]
     },
     "metadata": {
      "needs_background": "light"
     },
     "output_type": "display_data"
    }
   ],
   "source": [
    "#plot the loss\n",
    "plt.plot(r.history['loss'],label='train loss')\n",
    "plt.plot(r.history['val_loss'],label='val loss')\n",
    "plt.legend()\n",
    "plt.show()\n",
    "# plt.savefig('LossVal_loss')\n",
    "\n",
    "#plot the accuracy\n",
    "plt.plot(r.history['accuracy'],label='train accuracy')\n",
    "plt.plot(r.history['val_accuracy'],label='val accuracy')\n",
    "plt.legend()\n",
    "plt.show()"
   ]
  },
  {
   "cell_type": "code",
   "execution_count": null,
   "id": "287e546f",
   "metadata": {},
   "outputs": [],
   "source": []
  },
  {
   "cell_type": "code",
   "execution_count": 18,
   "id": "57c026b6",
   "metadata": {},
   "outputs": [
    {
     "name": "stdout",
     "output_type": "stream",
     "text": [
      "5/5 [==============================] - 23s 4s/step\n"
     ]
    }
   ],
   "source": [
    "y_pred = model.predict(test_set)"
   ]
  },
  {
   "cell_type": "code",
   "execution_count": null,
   "id": "bfd22f06",
   "metadata": {},
   "outputs": [],
   "source": []
  },
  {
   "cell_type": "code",
   "execution_count": 19,
   "id": "79851f50",
   "metadata": {},
   "outputs": [
    {
     "data": {
      "text/plain": [
       "array([[9.92821753e-01, 7.17826886e-03],\n",
       "       [9.28924918e-01, 7.10750893e-02],\n",
       "       [3.23172003e-01, 6.76828027e-01],\n",
       "       [9.96033013e-01, 3.96695687e-03],\n",
       "       [9.85257804e-01, 1.47421965e-02],\n",
       "       [3.31943184e-01, 6.68056846e-01],\n",
       "       [7.86891043e-01, 2.13108987e-01],\n",
       "       [6.72761321e-01, 3.27238649e-01],\n",
       "       [9.99133766e-01, 8.66218237e-04],\n",
       "       [9.99337733e-01, 6.62286417e-04],\n",
       "       [7.05819190e-01, 2.94180840e-01],\n",
       "       [3.26173991e-01, 6.73825979e-01],\n",
       "       [9.55553353e-01, 4.44466583e-02],\n",
       "       [5.86154997e-01, 4.13844973e-01],\n",
       "       [9.99198139e-01, 8.01920891e-04],\n",
       "       [5.45794785e-01, 4.54205185e-01],\n",
       "       [4.30550367e-01, 5.69449604e-01],\n",
       "       [6.50116205e-01, 3.49883795e-01],\n",
       "       [9.99535084e-01, 4.64946410e-04],\n",
       "       [9.84282553e-01, 1.57175139e-02],\n",
       "       [9.89622474e-01, 1.03774955e-02],\n",
       "       [9.91145313e-01, 8.85471702e-03],\n",
       "       [5.77447772e-01, 4.22552228e-01],\n",
       "       [9.95714724e-01, 4.28523635e-03],\n",
       "       [4.77096856e-01, 5.22903144e-01],\n",
       "       [9.97809112e-01, 2.19095079e-03],\n",
       "       [8.11662614e-01, 1.88337401e-01],\n",
       "       [9.31494892e-01, 6.85050786e-02],\n",
       "       [9.95833874e-01, 4.16605826e-03],\n",
       "       [6.11274481e-01, 3.88725489e-01],\n",
       "       [8.67898941e-01, 1.32101059e-01],\n",
       "       [9.98564541e-01, 1.43551792e-03],\n",
       "       [9.98258293e-01, 1.74165494e-03],\n",
       "       [9.88825142e-01, 1.11748157e-02],\n",
       "       [9.75163162e-01, 2.48367973e-02],\n",
       "       [8.71270835e-01, 1.28729135e-01],\n",
       "       [9.29636121e-01, 7.03639016e-02],\n",
       "       [9.47385490e-01, 5.26144579e-02],\n",
       "       [9.95307624e-01, 4.69233980e-03],\n",
       "       [7.85197914e-01, 2.14802057e-01],\n",
       "       [7.30862737e-01, 2.69137233e-01],\n",
       "       [9.55361307e-01, 4.46386971e-02],\n",
       "       [9.93500412e-01, 6.49961550e-03],\n",
       "       [9.57256913e-01, 4.27430458e-02],\n",
       "       [1.45761997e-01, 8.54238033e-01],\n",
       "       [4.60973978e-01, 5.39026022e-01],\n",
       "       [3.40823591e-01, 6.59176409e-01],\n",
       "       [9.99442041e-01, 5.57997613e-04],\n",
       "       [9.86573458e-01, 1.34265115e-02],\n",
       "       [9.18635666e-01, 8.13643709e-02],\n",
       "       [9.28088129e-01, 7.19119012e-02],\n",
       "       [7.23879695e-01, 2.76120335e-01],\n",
       "       [9.81803417e-01, 1.81965735e-02],\n",
       "       [3.72741908e-01, 6.27258062e-01],\n",
       "       [4.98959988e-01, 5.01040041e-01],\n",
       "       [3.50864857e-01, 6.49135172e-01],\n",
       "       [9.96135473e-01, 3.86456423e-03],\n",
       "       [3.97513449e-01, 6.02486551e-01],\n",
       "       [9.99981165e-01, 1.88069789e-05],\n",
       "       [5.25177658e-01, 4.74822283e-01],\n",
       "       [9.96412694e-01, 3.58726690e-03],\n",
       "       [9.92802024e-01, 7.19805341e-03],\n",
       "       [9.07272875e-01, 9.27270800e-02],\n",
       "       [5.86181819e-01, 4.13818181e-01],\n",
       "       [8.12590539e-01, 1.87409475e-01],\n",
       "       [9.99352872e-01, 6.47124660e-04],\n",
       "       [9.97097850e-01, 2.90211313e-03],\n",
       "       [9.90487397e-01, 9.51265544e-03],\n",
       "       [6.85087383e-01, 3.14912617e-01],\n",
       "       [9.38359380e-01, 6.16406351e-02],\n",
       "       [5.69674015e-01, 4.30326045e-01],\n",
       "       [3.94009620e-01, 6.05990410e-01],\n",
       "       [2.55072385e-01, 7.44927585e-01],\n",
       "       [9.56782401e-01, 4.32176217e-02],\n",
       "       [9.84800816e-01, 1.51991732e-02],\n",
       "       [9.95532990e-01, 4.46695462e-03],\n",
       "       [9.88754988e-01, 1.12450598e-02],\n",
       "       [4.35667157e-01, 5.64332783e-01],\n",
       "       [3.56238931e-01, 6.43761098e-01],\n",
       "       [9.93944943e-01, 6.05504820e-03],\n",
       "       [9.18782890e-01, 8.12171027e-02],\n",
       "       [5.80655634e-01, 4.19344306e-01],\n",
       "       [6.66619122e-01, 3.33380848e-01],\n",
       "       [8.85291219e-01, 1.14708737e-01],\n",
       "       [4.70993161e-01, 5.29006898e-01],\n",
       "       [7.10787356e-01, 2.89212644e-01],\n",
       "       [9.84466672e-01, 1.55333495e-02],\n",
       "       [5.84122658e-01, 4.15877342e-01],\n",
       "       [9.99608099e-01, 3.91891954e-04],\n",
       "       [9.23240960e-01, 7.67590553e-02],\n",
       "       [9.95243847e-01, 4.75612516e-03],\n",
       "       [5.90933263e-01, 4.09066737e-01],\n",
       "       [2.92135686e-01, 7.07864285e-01],\n",
       "       [4.86112237e-01, 5.13887823e-01],\n",
       "       [6.04011536e-01, 3.95988464e-01],\n",
       "       [5.21628678e-01, 4.78371263e-01],\n",
       "       [9.66869175e-01, 3.31308655e-02],\n",
       "       [8.04342985e-01, 1.95657015e-01],\n",
       "       [7.49385655e-01, 2.50614315e-01],\n",
       "       [7.44547486e-01, 2.55452484e-01],\n",
       "       [6.74171567e-01, 3.25828433e-01],\n",
       "       [8.69732380e-01, 1.30267635e-01],\n",
       "       [8.69817674e-01, 1.30182296e-01],\n",
       "       [8.97858918e-01, 1.02141090e-01],\n",
       "       [9.97183263e-01, 2.81676464e-03],\n",
       "       [8.48120391e-01, 1.51879594e-01],\n",
       "       [9.06948984e-01, 9.30510461e-02],\n",
       "       [9.81999040e-01, 1.80009250e-02],\n",
       "       [9.63582277e-01, 3.64177674e-02],\n",
       "       [9.46592689e-01, 5.34072556e-02],\n",
       "       [8.58044684e-01, 1.41955256e-01],\n",
       "       [5.43175519e-01, 4.56824452e-01],\n",
       "       [9.99469817e-01, 5.30239893e-04],\n",
       "       [2.65611708e-01, 7.34388292e-01],\n",
       "       [1.10123806e-01, 8.89876127e-01],\n",
       "       [7.08521426e-01, 2.91478604e-01],\n",
       "       [9.79571998e-01, 2.04279423e-02],\n",
       "       [2.81928092e-01, 7.18071938e-01],\n",
       "       [9.99639034e-01, 3.60928447e-04],\n",
       "       [8.61982644e-01, 1.38017401e-01],\n",
       "       [9.21784759e-01, 7.82152489e-02],\n",
       "       [9.72272217e-01, 2.77277585e-02],\n",
       "       [7.55928159e-01, 2.44071826e-01],\n",
       "       [5.87882161e-01, 4.12117898e-01],\n",
       "       [9.96843815e-01, 3.15615255e-03],\n",
       "       [8.28935146e-01, 1.71064824e-01],\n",
       "       [6.35649860e-01, 3.64350140e-01],\n",
       "       [9.11796093e-01, 8.82039443e-02],\n",
       "       [5.99494517e-01, 4.00505513e-01],\n",
       "       [3.06837708e-01, 6.93162322e-01],\n",
       "       [5.32599926e-01, 4.67399985e-01],\n",
       "       [9.72368538e-01, 2.76314300e-02],\n",
       "       [9.28861439e-01, 7.11385161e-02],\n",
       "       [9.19901252e-01, 8.00987482e-02]], dtype=float32)"
      ]
     },
     "execution_count": 19,
     "metadata": {},
     "output_type": "execute_result"
    }
   ],
   "source": [
    "y_pred"
   ]
  },
  {
   "cell_type": "code",
   "execution_count": 20,
   "id": "8d7bace5",
   "metadata": {},
   "outputs": [],
   "source": [
    "y_pred = np.argmax(y_pred,axis=1)"
   ]
  },
  {
   "cell_type": "code",
   "execution_count": 21,
   "id": "de1decf0",
   "metadata": {},
   "outputs": [
    {
     "data": {
      "text/plain": [
       "array([0, 0, 1, 0, 0, 1, 0, 0, 0, 0, 0, 1, 0, 0, 0, 0, 1, 0, 0, 0, 0, 0,\n",
       "       0, 0, 1, 0, 0, 0, 0, 0, 0, 0, 0, 0, 0, 0, 0, 0, 0, 0, 0, 0, 0, 0,\n",
       "       1, 1, 1, 0, 0, 0, 0, 0, 0, 1, 1, 1, 0, 1, 0, 0, 0, 0, 0, 0, 0, 0,\n",
       "       0, 0, 0, 0, 0, 1, 1, 0, 0, 0, 0, 1, 1, 0, 0, 0, 0, 0, 1, 0, 0, 0,\n",
       "       0, 0, 0, 0, 1, 1, 0, 0, 0, 0, 0, 0, 0, 0, 0, 0, 0, 0, 0, 0, 0, 0,\n",
       "       0, 0, 0, 1, 1, 0, 0, 1, 0, 0, 0, 0, 0, 0, 0, 0, 0, 0, 0, 1, 0, 0,\n",
       "       0, 0], dtype=int64)"
      ]
     },
     "execution_count": 21,
     "metadata": {},
     "output_type": "execute_result"
    }
   ],
   "source": [
    "y_pred"
   ]
  },
  {
   "cell_type": "code",
   "execution_count": null,
   "id": "bd296f72",
   "metadata": {},
   "outputs": [],
   "source": []
  },
  {
   "cell_type": "code",
   "execution_count": 41,
   "id": "b4126e16",
   "metadata": {},
   "outputs": [
    {
     "name": "stdout",
     "output_type": "stream",
     "text": [
      "WARNING:tensorflow:HDF5 format does not save weights of `optimizer_experimental.Optimizer`, your optimizer will be recompiled at loading time.\n"
     ]
    }
   ],
   "source": [
    "# save it as a h5 file\n",
    "from tensorflow.keras.models import load_model\n",
    "model.save(\"h5 files/Malaria_modelvgg19.h5\")"
   ]
  },
  {
   "cell_type": "code",
   "execution_count": null,
   "id": "c5420469",
   "metadata": {},
   "outputs": [],
   "source": []
  },
  {
   "cell_type": "code",
   "execution_count": 42,
   "id": "173182fb",
   "metadata": {},
   "outputs": [],
   "source": [
    "# loading an image to check our model"
   ]
  },
  {
   "cell_type": "code",
   "execution_count": 43,
   "id": "82ef0dd8",
   "metadata": {},
   "outputs": [],
   "source": [
    "from tensorflow.keras.models import load_model\n",
    "from tensorflow.keras.preprocessing import image"
   ]
  },
  {
   "cell_type": "code",
   "execution_count": null,
   "id": "bfed7af5",
   "metadata": {},
   "outputs": [],
   "source": []
  },
  {
   "cell_type": "code",
   "execution_count": 44,
   "id": "7da6e3c9",
   "metadata": {},
   "outputs": [
    {
     "name": "stdout",
     "output_type": "stream",
     "text": [
      "WARNING:tensorflow:Loading model from HDF5 will not restore the optimizer's weights, since the optimizer is an instance of `optimizer_experimental.Optimizer`\n"
     ]
    }
   ],
   "source": [
    "model=load_model('h5 files/Malaria_modelvgg19.h5')"
   ]
  },
  {
   "cell_type": "code",
   "execution_count": 65,
   "id": "98b8da62",
   "metadata": {},
   "outputs": [],
   "source": [
    "img=image.load_img('Malaria_Test/Parasite/C39P4thinF_original_IMG_20150622_105554_cell_10.png',target_size=(224,224))"
   ]
  },
  {
   "cell_type": "code",
   "execution_count": null,
   "id": "6d572913",
   "metadata": {},
   "outputs": [],
   "source": []
  },
  {
   "cell_type": "code",
   "execution_count": 66,
   "id": "cde6aae8",
   "metadata": {},
   "outputs": [
    {
     "data": {
      "text/plain": [
       "array([[[0., 0., 0.],\n",
       "        [0., 0., 0.],\n",
       "        [0., 0., 0.],\n",
       "        ...,\n",
       "        [0., 0., 0.],\n",
       "        [0., 0., 0.],\n",
       "        [0., 0., 0.]],\n",
       "\n",
       "       [[0., 0., 0.],\n",
       "        [0., 0., 0.],\n",
       "        [0., 0., 0.],\n",
       "        ...,\n",
       "        [0., 0., 0.],\n",
       "        [0., 0., 0.],\n",
       "        [0., 0., 0.]],\n",
       "\n",
       "       [[0., 0., 0.],\n",
       "        [0., 0., 0.],\n",
       "        [0., 0., 0.],\n",
       "        ...,\n",
       "        [0., 0., 0.],\n",
       "        [0., 0., 0.],\n",
       "        [0., 0., 0.]],\n",
       "\n",
       "       ...,\n",
       "\n",
       "       [[0., 0., 0.],\n",
       "        [0., 0., 0.],\n",
       "        [0., 0., 0.],\n",
       "        ...,\n",
       "        [0., 0., 0.],\n",
       "        [0., 0., 0.],\n",
       "        [0., 0., 0.]],\n",
       "\n",
       "       [[0., 0., 0.],\n",
       "        [0., 0., 0.],\n",
       "        [0., 0., 0.],\n",
       "        ...,\n",
       "        [0., 0., 0.],\n",
       "        [0., 0., 0.],\n",
       "        [0., 0., 0.]],\n",
       "\n",
       "       [[0., 0., 0.],\n",
       "        [0., 0., 0.],\n",
       "        [0., 0., 0.],\n",
       "        ...,\n",
       "        [0., 0., 0.],\n",
       "        [0., 0., 0.],\n",
       "        [0., 0., 0.]]], dtype=float32)"
      ]
     },
     "execution_count": 66,
     "metadata": {},
     "output_type": "execute_result"
    }
   ],
   "source": [
    "x=image.img_to_array(img)\n",
    "x"
   ]
  },
  {
   "cell_type": "code",
   "execution_count": 67,
   "id": "7b5d0cb0",
   "metadata": {},
   "outputs": [
    {
     "data": {
      "text/plain": [
       "(224, 224, 3)"
      ]
     },
     "execution_count": 67,
     "metadata": {},
     "output_type": "execute_result"
    }
   ],
   "source": [
    "x.shape"
   ]
  },
  {
   "cell_type": "code",
   "execution_count": 68,
   "id": "1d134411",
   "metadata": {},
   "outputs": [
    {
     "data": {
      "text/plain": [
       "(1, 224, 224, 3)"
      ]
     },
     "execution_count": 68,
     "metadata": {},
     "output_type": "execute_result"
    }
   ],
   "source": [
    "x=x/255\n",
    "\n",
    "x=np.expand_dims(x,axis=0)\n",
    "img_data=preprocess_input(x)\n",
    "img_data.shape"
   ]
  },
  {
   "cell_type": "code",
   "execution_count": 69,
   "id": "e570283f",
   "metadata": {},
   "outputs": [
    {
     "name": "stdout",
     "output_type": "stream",
     "text": [
      "1/1 [==============================] - 0s 150ms/step\n"
     ]
    },
    {
     "data": {
      "text/plain": [
       "array([[0.06421894, 0.93578106]], dtype=float32)"
      ]
     },
     "execution_count": 69,
     "metadata": {},
     "output_type": "execute_result"
    }
   ],
   "source": [
    "model.predict(img_data)"
   ]
  },
  {
   "cell_type": "code",
   "execution_count": 70,
   "id": "b86f8f08",
   "metadata": {},
   "outputs": [
    {
     "name": "stdout",
     "output_type": "stream",
     "text": [
      "1/1 [==============================] - 0s 143ms/step\n"
     ]
    }
   ],
   "source": [
    "a=np.argmax(model.predict(img_data), axis=1)"
   ]
  },
  {
   "cell_type": "code",
   "execution_count": 72,
   "id": "f936f9cb",
   "metadata": {},
   "outputs": [
    {
     "name": "stdout",
     "output_type": "stream",
     "text": [
      "Uninfected\n"
     ]
    }
   ],
   "source": [
    "if(a==1):\n",
    "    print(\"Uninfected\")\n",
    "else:\n",
    "    print(\"Infected\")"
   ]
  },
  {
   "cell_type": "code",
   "execution_count": null,
   "id": "cc7efa4b",
   "metadata": {},
   "outputs": [],
   "source": []
  },
  {
   "cell_type": "code",
   "execution_count": null,
   "id": "1f427a8b",
   "metadata": {},
   "outputs": [],
   "source": []
  }
 ],
 "metadata": {
  "kernelspec": {
   "display_name": "Python 3 (ipykernel)",
   "language": "python",
   "name": "python3"
  },
  "language_info": {
   "codemirror_mode": {
    "name": "ipython",
    "version": 3
   },
   "file_extension": ".py",
   "mimetype": "text/x-python",
   "name": "python",
   "nbconvert_exporter": "python",
   "pygments_lexer": "ipython3",
   "version": "3.9.7"
  }
 },
 "nbformat": 4,
 "nbformat_minor": 5
}
